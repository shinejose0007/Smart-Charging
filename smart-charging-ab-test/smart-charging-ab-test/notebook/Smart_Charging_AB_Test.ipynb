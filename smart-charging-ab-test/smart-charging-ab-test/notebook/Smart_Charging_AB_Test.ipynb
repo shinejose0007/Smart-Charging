{
  "cells": [
    {
      "cell_type": "markdown",
      "metadata": {},
      "source": [
        "# Smart-Charging A/B Test \u2014 Notebook\n",
        "\n",
        "This notebook is a guided skeleton to reproduce the A/B test analysis from the repository. It is organized into sections: setup, data generation, exploratory data analysis (EDA), KPI calculation, statistical tests (proportion z-test, t-test), bootstrap confidence intervals, visualization, and next steps (segmentation / optimization)."
      ]
    },
    {
      "cell_type": "markdown",
      "metadata": {},
      "source": [
        "## 1) Setup (install dependencies and imports)\n",
        "\n",
        "If running locally make sure you've installed the `requirements.txt` in a virtual environment.\n"
      ]
    },
    {
      "cell_type": "code",
      "metadata": {},
      "execution_count": null,
      "outputs": [],
      "source": [
        "# Imports\n",
        "import os\n",
        "import pandas as pd\n",
        "import numpy as np\n",
        "import matplotlib.pyplot as plt\n",
        "from scipy import stats\n",
        "import statsmodels.api as sm\n",
        "\n",
        "# add repo root to path if needed\n",
        "import sys\n",
        "sys.path.append('..')\n",
        "\n",
        "print('Imports ok')"
      ]
    },
    {
      "cell_type": "markdown",
      "metadata": {},
      "source": [
        "## 2) Generate synthetic data (or load existing CSV)\n",
        "\n",
        "You can either run the provided script from the terminal or call the functions directly from `generate_data.py`."
      ]
    },
    {
      "cell_type": "code",
      "metadata": {},
      "execution_count": null,
      "outputs": [],
      "source": [
        "# Option A: call the script to generate CSV (shell)\n",
        "# !python ../generate_data.py --output ../data/ab_test_data.csv --n_users 5000 --seed 42\n",
        "\n",
        "# Option B: import generator functions directly (recommended in notebook)\n",
        "from generate_data import generate_users, generate_sessions, assign_treatment, simulate_pricing_and_charging\n",
        "users = generate_users(2000, seed=42)\n",
        "sessions = generate_sessions(users, sessions_per_user_mean=3, seed=42)\n",
        "sessions = assign_treatment(sessions, seed=42)\n",
        "data = simulate_pricing_and_charging(sessions, seed=42)\n",
        "os.makedirs('../data', exist_ok=True)\n",
        "data.to_csv('../data/ab_test_data.csv', index=False)\n",
        "print('Data generated:', data.shape)\n",
        "data.head()"
      ]
    },
    {
      "cell_type": "markdown",
      "metadata": {},
      "source": [
        "## 3) Basic EDA\n",
        "\n",
        "Look at distributions, class balance, and summary statistics for primary KPIs."
      ]
    },
    {
      "cell_type": "code",
      "metadata": {},
      "execution_count": null,
      "outputs": [],
      "source": [
        "df = pd.read_csv('../data/ab_test_data.csv', parse_dates=['session_ts'])\n",
        "df.info()\n",
        "display(df.describe(include='all'))\n",
        "display(df.groupby('group').agg(sessions=('user_id','count'), low_share=('charged_in_low','mean'), avg_kwh=('energy_kwh','mean')))\n"
      ]
    },
    {
      "cell_type": "markdown",
      "metadata": {},
      "source": [
        "## 4) KPI definitions\n",
        "\n",
        "Define the primary metrics used for the experiment analysis."
      ]
    },
    {
      "cell_type": "code",
      "metadata": {},
      "execution_count": null,
      "outputs": [],
      "source": [
        "def compute_kpis(df):\n",
        "    grouped = df.groupby('group').agg(\n",
        "        sessions=('user_id','count'),\n",
        "        low_share=('charged_in_low','mean'),\n",
        "        avg_kwh=('energy_kwh','mean')\n",
        "    ).reset_index()\n",
        "    return grouped\n",
        "\n",
        "compute_kpis(df)\n"
      ]
    },
    {
      "cell_type": "markdown",
      "metadata": {},
      "source": [
        "## 5) Statistical tests\n",
        "\n",
        "Run a two-sample z-test for proportions (charged_in_low) and a Welch's t-test for average kWh."
      ]
    },
    {
      "cell_type": "code",
      "metadata": {},
      "execution_count": null,
      "outputs": [],
      "source": [
        "def z_test_proportions(df, metric_col='charged_in_low'):\n",
        "    cont = df[df['group']=='control'][metric_col].astype(int)\n",
        "    treat = df[df['group']=='treatment'][metric_col].astype(int)\n",
        "    count = np.array([treat.sum(), cont.sum()])\n",
        "    nobs = np.array([len(treat), len(cont)])\n",
        "    stat, pval = sm.stats.proportions_ztest(count, nobs, alternative='two-sided')\n",
        "    return stat, pval, treat.mean(), cont.mean(), treat.mean()-cont.mean()\n",
        "\n",
        "def t_test_continuous(df, metric_col='energy_kwh'):\n",
        "    cont = df[df['group']=='control'][metric_col]\n",
        "    treat = df[df['group']=='treatment'][metric_col]\n",
        "    stat, pval = stats.ttest_ind(treat, cont, equal_var=False)\n",
        "    return stat, pval, treat.mean(), cont.mean(), treat.mean()-cont.mean()\n",
        "\n",
        "z_stat, z_p, t_mean, c_mean, diff = z_test_proportions(df)\n",
        "print('Proportion z-test: stat={:.3f}, p={:.4f}, treat_mean={:.4f}, control_mean={:.4f}, diff={:.4f}'.format(z_stat, z_p, t_mean, c_mean, diff))\n",
        "t_stat, t_p, t_tmean, t_cmean, t_diff = t_test_continuous(df)\n",
        "print('T-test energy_kwh: stat={:.3f}, p={:.4f}, treat_mean={:.4f}, control_mean={:.4f}, diff={:.4f}'.format(t_stat, t_p, t_tmean, t_cmean, t_diff))\n"
      ]
    },
    {
      "cell_type": "markdown",
      "metadata": {},
      "source": [
        "## 6) Bootstrap confidence intervals\n",
        "\n",
        "Bootstrap the difference in means for robustness and to create non-parametric CIs."
      ]
    },
    {
      "cell_type": "code",
      "metadata": {},
      "execution_count": null,
      "outputs": [],
      "source": [
        "def bootstrap_diff(df, metric_col, n_boot=2000, seed=1):\n",
        "    rng = np.random.default_rng(seed)\n",
        "    treat = df[df['group']=='treatment'][metric_col].values\n",
        "    cont = df[df['group']=='control'][metric_col].values\n",
        "    diffs = []\n",
        "    for _ in range(n_boot):\n",
        "        s1 = rng.choice(treat, size=len(treat), replace=True)\n",
        "        s0 = rng.choice(cont, size=len(cont), replace=True)\n",
        "        diffs.append(s1.mean() - s0.mean())\n",
        "    diffs = np.array(diffs)\n",
        "    lower = np.percentile(diffs, 2.5)\n",
        "    upper = np.percentile(diffs, 97.5)\n",
        "    return lower, upper, diffs\n",
        "\n",
        "lower, upper, diffs = bootstrap_diff(df, 'energy_kwh', n_boot=2000, seed=2)\n",
        "print(f'Bootstrap 95% CI for energy_kwh diff: ({lower:.4f}, {upper:.4f})')\n",
        "plt.hist(diffs, bins=40)\n",
        "plt.title('Bootstrap distribution of mean difference (energy_kwh)')\n",
        "plt.show()\n"
      ]
    },
    {
      "cell_type": "markdown",
      "metadata": {},
      "source": [
        "## 7) Visualization & simple dashboards\n",
        "\n",
        "Create quick figures that could be exported to a dashboard (bar charts, time-series)."
      ]
    },
    {
      "cell_type": "code",
      "metadata": {},
      "execution_count": null,
      "outputs": [],
      "source": [
        "import matplotlib.dates as mdates\n",
        "df['date'] = pd.to_datetime(df['session_ts']).dt.date\n",
        "daily = df.groupby(['date','group']).agg(low_share=('charged_in_low','mean'), avg_kwh=('energy_kwh','mean')).reset_index()\n",
        "pivot = daily.pivot(index='date', columns='group', values='low_share')\n",
        "pivot.plot(figsize=(10,4), marker='o')\n",
        "plt.title('T\u00e4glicher Anteil Niedrigpreis-Ladevorg\u00e4nge nach Gruppe')\n",
        "plt.ylabel('Anteil in Niedrigpreisfenster')\n",
        "plt.tight_layout()\n",
        "plt.show()\n"
      ]
    },
    {
      "cell_type": "markdown",
      "metadata": {},
      "source": [
        "## 8) Next steps / extensions\n",
        "\n",
        "- Segmentation: Heterogeneous Treatment Effects by propensity decile\n",
        "- Power analysis / sample size calculation\n",
        "- Integrate with BigQuery and create Looker Studio / Power BI dashboard\n",
        "- Optimization notebook: constrained charging schedule using `cvxpy` or `scipy.optimize`\n"
      ]
    }
  ],
  "metadata": {
    "kernelspec": {
      "display_name": "Python 3",
      "language": "python",
      "name": "python3"
    },
    "language_info": {
      "name": "python",
      "version": "3.10"
    }
  },
  "nbformat": 4,
  "nbformat_minor": 5
}